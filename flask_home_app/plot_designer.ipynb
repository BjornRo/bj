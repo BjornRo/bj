{
 "cells": [
  {
   "cell_type": "markdown",
   "id": "focal-cable",
   "metadata": {},
   "source": [
    "# File to wrangle data to get the plots to finally implement as a function."
   ]
  },
  {
   "cell_type": "code",
   "execution_count": 97,
   "id": "scientific-preservation",
   "metadata": {},
   "outputs": [
    {
     "name": "stdout",
     "output_type": "stream",
     "text": [
      "2021-03-26 17:25:49,239 INFO sqlalchemy.engine.base.Engine BEGIN (implicit)\n",
      "2021-03-26 17:25:49,239 INFO sqlalchemy.engine.base.Engine \n",
      "        WITH kitchendata AS (\n",
      "                SELECT time, temperature AS ktemp, humidity AS khumid, airpressure AS kpressure\n",
      "                FROM Temperature \n",
      "                NATURAL JOIN Humidity \n",
      "                NATURAL JOIN Airpressure\n",
      "                WHERE measurer = 'kitchen'),\n",
      "            balconydata AS (\n",
      "                SELECT time, temperature AS btemp, humidity AS bhumid\n",
      "                FROM Temperature\n",
      "                NATURAL JOIN Humidity\n",
      "                WHERE measurer = 'balcony'),\n",
      "            bikeroomdata AS (\n",
      "                SELECT time, temperature AS brtemp\n",
      "                FROM Temperature\n",
      "                WHERE measurer = 'bikeroom')\n",
      "            SELECT kd.time, ktemp, khumid, kpressure, btemp, bhumid, brtemp\n",
      "                FROM kitchendata kd\n",
      "                LEFT OUTER JOIN\n",
      "                    balconydata bd\n",
      "                    ON kd.time = bd.time\n",
      "                LEFT OUTER JOIN\n",
      "                    bikeroomdata brd\n",
      "                    ON kd.time = brd.time\n",
      "2021-03-26 17:25:49,240 INFO sqlalchemy.engine.base.Engine ()\n",
      "2021-03-26 17:25:49,244 INFO sqlalchemy.engine.base.Engine COMMIT\n"
     ]
    }
   ],
   "source": [
    "# Get db-data\n",
    "\n",
    "import sys \n",
    "import os\n",
    "import numpy as np\n",
    "from datetime import datetime, timedelta\n",
    "\n",
    "from flask import Flask\n",
    "from flask_sqlalchemy import SQLAlchemy\n",
    "app = Flask(__name__)\n",
    "app.config[\"SQLALCHEMY_DATABASE_URI\"] = \"sqlite:///backend/database.db\"\n",
    "app.config['SQLALCHEMY_ECHO'] = True\n",
    "app.config['SQLALCHEMY_TRACK_MODIFICATIONS'] = False\n",
    "db = SQLAlchemy(app)\n",
    "\n",
    "from backend.models import *\n",
    "\n",
    "with app.app_context():\n",
    "    all_data = np.array(\n",
    "        db.session.execute(\"\"\"\n",
    "        WITH kitchendata AS (\n",
    "                SELECT time, temperature AS ktemp, humidity AS khumid, airpressure AS kpressure\n",
    "                FROM Temperature \n",
    "                NATURAL JOIN Humidity \n",
    "                NATURAL JOIN Airpressure\n",
    "                WHERE measurer = 'kitchen'),\n",
    "            balconydata AS (\n",
    "                SELECT time, temperature AS btemp, humidity AS bhumid\n",
    "                FROM Temperature\n",
    "                NATURAL JOIN Humidity\n",
    "                WHERE measurer = 'balcony'),\n",
    "            bikeroomdata AS (\n",
    "                SELECT time, temperature AS brtemp\n",
    "                FROM Temperature\n",
    "                WHERE measurer = 'bikeroom')\n",
    "            SELECT kd.time, ktemp, khumid, kpressure, btemp, bhumid, brtemp\n",
    "                FROM kitchendata kd\n",
    "                LEFT OUTER JOIN\n",
    "                    balconydata bd\n",
    "                    ON kd.time = bd.time\n",
    "                LEFT OUTER JOIN\n",
    "                    bikeroomdata brd\n",
    "                    ON kd.time = brd.time\"\"\").fetchall())\n",
    "    db.session.commit()\n",
    "    \n"
   ]
  },
  {
   "cell_type": "code",
   "execution_count": 100,
   "id": "loaded-conviction",
   "metadata": {},
   "outputs": [],
   "source": [
    "# Time, Kitchen temp, Kitchen humidity, Kitchen Airpressure, Balcony Temp, Balcony Humidity, Bikeroom temp\n",
    "feature_names = ['date', 'kitchen temp', 'kitchen humid', 'kitchen pressure', 'balcony temp', 'balcony humid','bikeroom temp']"
   ]
  },
  {
   "cell_type": "code",
   "execution_count": 134,
   "id": "logical-portable",
   "metadata": {},
   "outputs": [
    {
     "data": {
      "image/png": "[encoded data removed]",
      "text/plain": [
       "<Figure size 432x288 with 1 Axes>"
      ]
     },
     "metadata": {
      "needs_background": "light"
     },
     "output_type": "display_data"
    }
   ],
   "source": [
    "import matplotlib.pyplot as plt\n",
    "\n",
    "def reduced(x):\n",
    "    return x.reshape(-1,2)[:,1:].flatten()\n",
    "len(all_data[:,0])\n",
    "plt.plot(np.arange(0,len(all_data[:,0])),all_data[:,6])\n",
    "\n",
    "plt.show()\n"
   ]
  },
  {
   "cell_type": "code",
   "execution_count": 132,
   "id": "hispanic-contribution",
   "metadata": {},
   "outputs": [
    {
     "data": {
      "text/plain": [
       "array([  0,   1,   2,   3,   4,   5,   6,   7,   8,   9,  10,  11,  12,\n",
       "        13,  14,  15,  16,  17,  18,  19,  20,  21,  22,  23,  24,  25,\n",
       "        26,  27,  28,  29,  30,  31,  32,  33,  34,  35,  36,  37,  38,\n",
       "        39,  40,  41,  42,  43,  44,  45,  46,  47,  48,  49,  50,  51,\n",
       "        52,  53,  54,  55,  56,  57,  58,  59,  60,  61,  62,  63,  64,\n",
       "        65,  66,  67,  68,  69,  70,  71,  72,  73,  74,  75,  76,  77,\n",
       "        78,  79,  80,  81,  82,  83,  84,  85,  86,  87,  88,  89,  90,\n",
       "        91,  92,  93,  94,  95,  96,  97,  98,  99, 100, 101, 102, 103,\n",
       "       104, 105, 106, 107, 108, 109, 110, 111, 112, 113, 114, 115, 116,\n",
       "       117, 118, 119, 120, 121, 122, 123])"
      ]
     },
     "execution_count": 132,
     "metadata": {},
     "output_type": "execute_result"
    }
   ],
   "source": [
    "np.arange(0,len(all_data[:,0]))"
   ]
  }
 ],
 "metadata": {
  "kernelspec": {
   "display_name": "Python 3",
   "language": "python",
   "name": "python3"
  },
  "language_info": {
   "codemirror_mode": {
    "name": "ipython",
    "version": 3
   },
   "file_extension": ".py",
   "mimetype": "text/x-python",
   "name": "python",
   "nbconvert_exporter": "python",
   "pygments_lexer": "ipython3",
   "version": "3.8.8"
  }
 },
 "nbformat": 4,
 "nbformat_minor": 5
}
